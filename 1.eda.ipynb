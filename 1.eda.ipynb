{
 "cells": [
  {
   "cell_type": "markdown",
   "metadata": {},
   "source": [
    "### Exploratory Data Analysis (EDA)\n",
    "\n",
    "For this analysis, the ydata_profiling library has been employed to perform an exploration of the \"applicationdata\" dataset. \n",
    "https://github.com/ydataai/ydata-profiling\n",
    "\n",
    "\n",
    "ydata_profiling facilitates comprehensive data profiling, offering insights into data distribution, missing values, duplicates, and various statistical summaries. This introductory analysis aims to uncover key patterns and characteristics within the dataset, laying the groundwork for subsequent report generation.\n",
    "\n",
    "See the profile: eda_output.html"
   ]
  },
  {
   "cell_type": "code",
   "execution_count": 1,
   "metadata": {},
   "outputs": [
    {
     "name": "stderr",
     "output_type": "stream",
     "text": [
      "c:\\Users\\Juliet480\\OneDrive - UTN FRLP\\WINCLAP\\Challenge\\exercise3\\venv\\Lib\\site-packages\\tqdm\\auto.py:21: TqdmWarning: IProgress not found. Please update jupyter and ipywidgets. See https://ipywidgets.readthedocs.io/en/stable/user_install.html\n",
      "  from .autonotebook import tqdm as notebook_tqdm\n"
     ]
    }
   ],
   "source": [
    "import pandas as pd\n",
    "from ydata_profiling import ProfileReport\n",
    "df = pd.read_csv(\"dataset.csv\")"
   ]
  },
  {
   "cell_type": "code",
   "execution_count": 2,
   "metadata": {},
   "outputs": [
    {
     "name": "stderr",
     "output_type": "stream",
     "text": [
      "Summarize dataset: 100%|██████████| 90/90 [00:22<00:00,  3.94it/s, Completed]                                 \n",
      "Generate report structure: 100%|██████████| 1/1 [00:14<00:00, 14.36s/it]\n",
      "Render HTML: 100%|██████████| 1/1 [00:08<00:00,  8.82s/it]\n",
      "Export report to file: 100%|██████████| 1/1 [00:00<00:00, 15.98it/s]\n"
     ]
    }
   ],
   "source": [
    "profile = ProfileReport(df, correlations={\"auto\": {\"calculate\": False}})\n",
    "profile.to_file(\"eda_output.html\")"
   ]
  },
  {
   "cell_type": "markdown",
   "metadata": {},
   "source": [
    "### Conclusions\n",
    "\n",
    "The exploratory data analysis (EDA) of the \"applicationdata\" dataset has provided key insights into its structure and quality. Below are the main conclusions drawn from the analysis:\n",
    "\n",
    "1. **Dataset Structure:**\n",
    "   - The dataset contains 1570 rows and 17 columns.\n",
    "   - Approximately 16% of the values are missing.\n",
    "   - There are no duplicate rows.\n",
    "   - The `summary_date` column, which ranges from June 1, 2022, to July 31, 2022, covers a period of 61 days.\n",
    "\n",
    "2. **Categorical Columns:**\n",
    "   - The `app_id`, `app_type`, and `app_name` columns each contain a single unique value, indicating no variability.\n",
    "   - The `campaign_id` column contains 7 unique values with no missing data. However, there is a significant imbalance, with data for campaign 16 being about 20 times more frequent than for other campaigns. This is also reflected in the `campaign_name` column indicating 1:1 relationship.\n",
    "   - The `ad_id` column contains 54 unique values with 7.5% missing data, which is also reflected in the `ad_name` column.\n",
    "   - The `event_name` column contains a single unique value, indicating no variability.\n",
    "\n",
    "3. **Numeric Columns:**\n",
    "   - The `impressions` column is numeric with 10.5% zeros and 5.2% missing values.\n",
    "   - The `clicks` column has 16.2% zeros, 5.2% missing values, and a skewed distribution, indicating that the data is not evenly distributed and may be concentrated at one end.\n",
    "   - The `installs` column has 47.4% missing values and no zeros.\n",
    "   - The `spend` column has 5.2% missing values and 8.9% zeros.\n",
    "   - The `events_d0` column has 47.4% missing values and 32.5% zeros.\n",
    "   - The `events_d7` column has 47.4% missing values and 31.5% zeros.\n",
    "   - The `unique_events_d0` column has 47.4% missing values and 32.5% zeros.\n",
    "   - The `unique_events_d7` column has 47.4% missing values and 31.5% zeros.\n",
    "\n",
    "4. **Missing Values and Zeros:**\n",
    "   - A significant proportion of missing values and zeros in key metrics (`impressions`, `clicks`, `installs`, `spend`) may impact the analysis and interpretation of the data.\n",
    "\n",
    "5. **Data Distribution:**\n",
    "   - The distribution of key metrics shows high variability, especially in `impressions` and `clicks`, which may indicate the presence of outliers or a non-uniform distribution of the data.\n",
    "\n",
    "6. **Variable Relationships:**\n",
    "   - Metrics such as CTR (click-through rate) calculated as clicks/impressions and CPI (cost per install) calculated as spend/installs can be examinated through variable relationships:\n",
    "\n",
    "      - Clicks vs Impressions: The relationship between impressions and clicks, as observed in the hexbin scatter plot, shows a significant concentration of points near zero. This suggests that many campaigns have few impressions and clicks, indicating a skewed distribution and the presence of low-performing campaigns.\n",
    "\n",
    "      - Spend vs. Installs: The scatter plot between spend and installs shows a trend where an increase in spend does not always correlate with a proportional increase in installs. There are several points where higher spend does not result in more installs, which may indicate inefficiency in some campaigns or the influence of other factors not considered in this direct relationship.\n",
    "\n",
    "### Assumptions\n",
    "\n",
    "In conducting this analysis for the technical challenge, the following assumptions have been adopted:\n",
    "\n",
    "1. **Handling Missing Values:** Missing values in the `clicks`, `impressions`, `spend`, and `installs` columns will be treated as zeros.\n",
    "\n",
    "2. **Column Selection:** The analysis will focus primarily on the following columns for the report:\n",
    "   - `clicks`\n",
    "   - `impressions`\n",
    "   - `spend`\n",
    "   - `installs`\n",
    "   - `campaign_id`\n",
    "   - `summary_date`\n",
    "\n",
    "3. **Important Note:**  \n",
    "   It could be considered to remove records with zero impressions and zero installs since, in those cases, the calculation of CTR and CPI is not possible. In this case, it was decided not to remove records, but it should be noted in the interpretation of the report that the sum of clicks over the sum of impressions will not equal the average CTR, as those sums include values not counted in the CTR calculation due to having a zero denominator (21.4% due to missing values and zeros). The same applies to CPI where, as mentioned earlier, the amount of null installs is 47.4%.\n",
    "   \n",
    "   As a result, both calculated metrics, CTR and CPI, were computed considering records where the denominators are not zero, while the rest of the metrics (totals) include all records.\n"
   ]
  },
  {
   "cell_type": "markdown",
   "metadata": {},
   "source": []
  }
 ],
 "metadata": {
  "kernelspec": {
   "display_name": "venv",
   "language": "python",
   "name": "python3"
  },
  "language_info": {
   "codemirror_mode": {
    "name": "ipython",
    "version": 3
   },
   "file_extension": ".py",
   "mimetype": "text/x-python",
   "name": "python",
   "nbconvert_exporter": "python",
   "pygments_lexer": "ipython3",
   "version": "3.11.5"
  }
 },
 "nbformat": 4,
 "nbformat_minor": 2
}
